{
 "cells": [
  {
   "cell_type": "code",
   "execution_count": 11,
   "id": "c8835521",
   "metadata": {},
   "outputs": [],
   "source": [
    "import matplotlib.pyplot as plt # for plotting\n",
    "import numpy as np #array handling \n",
    "import scipy as sp #scientific package\n",
    "import pandas as pd #csv file handling\n",
    "from scipy.optimize import * #for optimizing the function\n",
    "from scipy.signal import find_peaks as fpk #finding peak in the given data\n",
    "import seaborn as sns"
   ]
  },
  {
   "cell_type": "code",
   "execution_count": 18,
   "id": "b0baa554",
   "metadata": {},
   "outputs": [
    {
     "name": "stdout",
     "output_type": "stream",
     "text": [
      "Cy2_1.50_10_20_Lp.npy (3, 10)\n",
      "0.6385266922166621\n",
      "Cy2_1.75_10_20_Lp.npy (3, 10)\n",
      "0.6396247334574887\n"
     ]
    }
   ],
   "source": [
    "%matplotlib qt\n",
    "name = [r'Cy2_1.50_10_20.csv',r'Cy2_1.75_10_20.csv'] # load the files whose persistence length and alpha need to be plotted\n",
    "fig, ax = plt.subplots(len(name),2,sharex='col',figsize=(12.5,12.5))#,sharey='row')\n",
    "style = [':','--','-.']\n",
    "slr=20\n",
    "\n",
    "for j in range(len(name)):\n",
    "    ax[0,0].set_title(r'Presistence length')\n",
    "    ax[0,1].set_title(r'alpha')\n",
    "    \n",
    "    naam    = name[j][:-4]+'_Lp.npy' ## Data with persistence length\n",
    "    ars = np.load(naam)\n",
    "    \n",
    "    val1 = ars[0][(ars[0] > 5e-08) & (ars[0] < 3e-07)] # store the persistence length data\n",
    "\n",
    "    ax[j,0].hist(val1,alpha=.5,bins=int(np.sqrt(tcurve)),density=True)\n",
    "\n",
    "    sns.kdeplot(val1,ax=ax[j,0],color='C'+str(j))\n",
    "\n",
    "    naam    = name[j][:-4]+'_acur.npy' # The files containing alpha plots\n",
    "\n",
    "    ars = np.load(naam,allow_pickle=True)\n",
    "    ar0 = []\n",
    "    for k in range(len(ars)):\n",
    "        vam = np.where(ars[k] == max(ars[k][:60]))[0]\n",
    "        ar0.append(min(ars[k][vam[0]:]))\n",
    "    ar0 = np.asarray(ar0)\n",
    "    ax[j,1].hist(ar0,alpha=.5,bins=int(np.sqrt(tcurve)),density=True)\n",
    "    sns.kdeplot(ar0,ax=ax[j,1],color='C'+str(j))\n",
    "    np.savetxt('GST_'+name[j][:-4]+'_alpha.csv',ar0,delimiter=\",\")\n",
    "    print(np.mean(ar0))"
   ]
  },
  {
   "cell_type": "code",
   "execution_count": null,
   "id": "895a4267",
   "metadata": {},
   "outputs": [],
   "source": []
  }
 ],
 "metadata": {
  "kernelspec": {
   "display_name": "Python 3 (ipykernel)",
   "language": "python",
   "name": "python3"
  },
  "language_info": {
   "codemirror_mode": {
    "name": "ipython",
    "version": 3
   },
   "file_extension": ".py",
   "mimetype": "text/x-python",
   "name": "python",
   "nbconvert_exporter": "python",
   "pygments_lexer": "ipython3",
   "version": "3.9.12"
  }
 },
 "nbformat": 4,
 "nbformat_minor": 5
}
