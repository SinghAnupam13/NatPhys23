{
 "cells": [
  {
   "cell_type": "code",
   "execution_count": 6,
   "id": "bc2be78f",
   "metadata": {},
   "outputs": [],
   "source": [
    "import numpy as np\n",
    "import scipy as sp\n",
    "import pandas as pd\n",
    "from scipy.optimize import *\n",
    "import math\n",
    "from math import sqrt"
   ]
  },
  {
   "cell_type": "code",
   "execution_count": 7,
   "id": "e543591c",
   "metadata": {},
   "outputs": [
    {
     "ename": "AttributeError",
     "evalue": "module 'scipy' has no attribute 'integrate'",
     "output_type": "error",
     "traceback": [
      "\u001b[1;31m---------------------------------------------------------------------------\u001b[0m",
      "\u001b[1;31mAttributeError\u001b[0m                            Traceback (most recent call last)",
      "Input \u001b[1;32mIn [7]\u001b[0m, in \u001b[0;36m<cell line: 14>\u001b[1;34m()\u001b[0m\n\u001b[0;32m     11\u001b[0m     ing \u001b[38;5;241m=\u001b[39m sp\u001b[38;5;241m.\u001b[39mintegrate\u001b[38;5;241m.\u001b[39mquad(intg,\u001b[38;5;241m1\u001b[39m,\u001b[38;5;241m10000\u001b[39m)\n\u001b[0;32m     12\u001b[0m     \u001b[38;5;28;01mreturn\u001b[39;00m ing[\u001b[38;5;241m0\u001b[39m]\n\u001b[1;32m---> 14\u001b[0m E1_15 \u001b[38;5;241m=\u001b[39m \u001b[43mE1\u001b[49m\u001b[43m(\u001b[49m\u001b[38;5;241;43m3\u001b[39;49m\u001b[38;5;241;43m/\u001b[39;49m\u001b[38;5;241;43m2\u001b[39;49m\u001b[43m)\u001b[49m\n\u001b[0;32m     16\u001b[0m \u001b[38;5;28;01mdef\u001b[39;00m \u001b[38;5;21mI1nm\u001b[39m(n,m,lp,L):\n\u001b[0;32m     17\u001b[0m     \u001b[38;5;28;01mif\u001b[39;00m n \u001b[38;5;241m<\u001b[39m Llp:\n",
      "Input \u001b[1;32mIn [7]\u001b[0m, in \u001b[0;36mE1\u001b[1;34m(z)\u001b[0m\n\u001b[0;32m      9\u001b[0m \u001b[38;5;28;01mdef\u001b[39;00m \u001b[38;5;21mintg\u001b[39m(t):\n\u001b[0;32m     10\u001b[0m     \u001b[38;5;28;01mreturn\u001b[39;00m np\u001b[38;5;241m.\u001b[39me\u001b[38;5;241m*\u001b[39m\u001b[38;5;241m*\u001b[39m(\u001b[38;5;241m-\u001b[39mz\u001b[38;5;241m*\u001b[39mt)\u001b[38;5;241m/\u001b[39mt\n\u001b[1;32m---> 11\u001b[0m ing \u001b[38;5;241m=\u001b[39m \u001b[43msp\u001b[49m\u001b[38;5;241;43m.\u001b[39;49m\u001b[43mintegrate\u001b[49m\u001b[38;5;241m.\u001b[39mquad(intg,\u001b[38;5;241m1\u001b[39m,\u001b[38;5;241m10000\u001b[39m)\n\u001b[0;32m     12\u001b[0m \u001b[38;5;28;01mreturn\u001b[39;00m ing[\u001b[38;5;241m0\u001b[39m]\n",
      "\u001b[1;31mAttributeError\u001b[0m: module 'scipy' has no attribute 'integrate'"
     ]
    }
   ],
   "source": [
    "# The functions implement the theoretical developments in  \n",
    "# \"Hinczewski M, Schlagberger X, Rubinstein M, Krichevsky O, Netz RR. End-monomer dynamics in semiflexible polymers. Macromolecules. 2009 Feb 10;42(3):860-75.\"\n",
    "# & Harnau L, Winkler RG, Reineker P. Dynamic structure factor of semiflexible macromolecules in dilute solution. The Journal of chemical physics. 1996 Apr 22;104(16):6355-68\n",
    "\n",
    "def Afunc(n,L):\n",
    "    return 16.06 - 12*np.log10(L/(a*pi*n)) \n",
    "  \n",
    "def E1(z):\n",
    "    def intg(t):\n",
    "        return np.e**(-z*t)/t\n",
    "    ing = sp.integrate.quad(intg,1,10000)\n",
    "    return ing[0]\n",
    "\n",
    "E1_15 = E1(3/2)\n",
    "\n",
    "def I1nm(n,m,lp,L):\n",
    "    if n < Llp:\n",
    "        if n == m:\n",
    "            return sqrt(6/pi)*(E1(6*a*a/lp/lp)-E1_15)\n",
    "        else:\n",
    "            return (4*sqrt(6/pi)/L)*(2*a*np.e**(-3/2) - lp*np.exp(-6*a*a/lp/lp) + a*sqrt(6*pi)*(sp.special.erf(sqrt(3/2)) - sp.special.erf(sqrt(6)*a/lp)))\n",
    "    else:\n",
    "        if n == m:\n",
    "            return - (sqrt(6)/(n*(pi**1.5))) * (3 + n*pi*(3*gama + E1_15 + 2*np.log10(sqrt(6)*a*pi*n/L)))\n",
    "        else:\n",
    "            return (m**2 + n**2)*(np.log10(16*m*n*((a*pi/L)**2) + 2*gama)) - (2*sqrt(6)/(pi**1.5))*(m+n)*pi/(m**2+n**2)\n",
    "\n",
    "def I2nm(n,m,lp,L):\n",
    "    if n == m:\n",
    "        return sqrt(6*L/(pi*lp))*(1/(n**0.5) - 1/(2*pi*(n**1.5))) - sqrt(48/pi)\n",
    "    else:\n",
    "        return - sqrt(24*L/lp)/((n+m)*(sqrt(n)+sqrt(m))*(pi**1.5))\n",
    "\n",
    "def I1nm_nl(n,m,lp,L):\n",
    "    alp = 6*((a/lp)**2)\n",
    "    if n == m:\n",
    "        return sqrt(6/pi)*(E1(alp)-E1_15)\n",
    "    else:\n",
    "        return (4*sqrt(6/pi)/L)*(2*a*np.e**(-3/2) - lp*np.e**(-alp) + a*sqrt(6*pi)*(sp.special.erf(sqrt(3/2)) - sp.special.erf(sqrt(6)*a/lp)))\n",
    "    \n",
    "def I1nm_ng(n,m,lp,L):\n",
    "    if n == m:\n",
    "        return - (sqrt(6)/(n*(pi**1.5))) * (3 + n*pi*(3*gama + E1_15 + 2*np.log10(sqrt(6)*a*pi*n/L)))\n",
    "    else:\n",
    "        return (m**2 + n**2)*(np.log10(16*m*n*((a*pi/L)**2) + 2*gama)) - (2*sqrt(6)/(pi**1.5))*(m+n)*pi/(m**2+n**2)\n",
    "    \n",
    "def MSD(rt,lp,tauD):\n",
    "    \n",
    "    summ = 0\n",
    "    \n",
    "    iFunc1 = 0\n",
    "    iFunc2 = 0\n",
    "    ilambdan = 0\n",
    "    iHnn = 0\n",
    "    iH0n = 0\n",
    "    iEpsn = 0\n",
    "    \n",
    "    \n",
    "    for i in range(1,itr):\n",
    "        \n",
    "        n = i\n",
    "        \n",
    "        s = L/2\n",
    "        \n",
    "        if n < Llp:\n",
    "            iFunc1 = sqrt(L/lp)*((-108*pi + 27*(pi**2))/(18*sqrt(6)*(pi**(7/2))*(n**(3/2))) + (- 126 + 72*pi - 16*sqrt(3)*pi)/(18*sqrt(6)*(pi**(7/2))*(n**(5/2))))\n",
    "            iFunc2 = sqrt(2/L)*((-9+4*sqrt(3))/18 + (-9+(9+sqrt(3))*pi)/(27*pi*pi*n) - (72 - 45*pi + 4*sqrt(3)*pi)/(216*(pi**3)*(n**2)))\n",
    "            ilambdan = (3*KbT*(pi**2)*(n**2))/(2*lp*(L**2))\n",
    "            iHnn = a*mu0*(2 + I1nm_nl(n=i,m=i,lp=lp,L=L) + I2nm(n=i,m=i,lp=lp,L=L))\n",
    "            iH0n = a*mu0*(I1nm_nl(n=0,m=i,lp=lp,L=L) + I2nm(n=0,m=i,lp=lp,L=L))\n",
    "            \n",
    "            aln = pi*n/L\n",
    "            if (n%2)==0:\n",
    "                iEpsn = ((-1)**(n*0.5))*sqrt(2/L)*np.cos(aln*s)\n",
    "            else:\n",
    "                iEpsn = ((-1)**((n-1)*0.5))*sqrt(2/L)*np.sin(aln*s)\n",
    "        \n",
    "        else:\n",
    "            iFunc1 = 12*(sqrt(6/pi))/(n*Afunc(n,L))\n",
    "            iFunc2 = sqrt(4/L)/Afunc(n,L)\n",
    "            ilambdan = 3*KbT*lp*((pi*(2*n-1)/L)**4)/32\n",
    "            iHnn = a*mu0*(2 + I1nm(n=i,m=i,lp=lp,L=L))\n",
    "            iH0n = a*mu0*I1nm(n=0,m=i,lp=lp,L=L)\n",
    "            \n",
    "            aln = pi*(2*n-1)/(2*L)\n",
    "            if (n%2)==0:\n",
    "                iEpsn = ((-1)**(n*0.5))*sqrt(2/L)*np.cos(aln*s) + sqrt(1/L)*np.cosh(aln*s)/np.sinh(aln*L/2)\n",
    "            else:\n",
    "                iEpsn = ((-1)**((n-1)*0.5))*sqrt(2/L)*np.sin(aln*s) + sqrt(1/L)*np.sinh(aln*s)/np.cosh(aln*L/2)\n",
    "        \n",
    "        \n",
    "        itaun = 1/(ilambdan*iHnn) - iFunc1/(iHnn*iHnn*ilambdan)\n",
    "\n",
    "        iEpsL2 = iEpsn + iH0n/(iHnn*(L**0.5)) + iFunc2\n",
    "                \n",
    "        iTheta = iHnn + 2 * iFunc1\n",
    "        \n",
    "        summ+= 6*KbT*itaun*iTheta*iEpsL2*iEpsL2*(1-np.exp(-rt/itaun))\n",
    "    \n",
    "    return 6*Diff_Hara(lp=lp,L=L)*rt*tauD + summ\n",
    "\n",
    "# The calculation of diffusion proposed by \"Harnau L, Winkler RG, Reineker P. Dynamic structure factor of semiflexible macromolecules in dilute solution. The Journal of chemical physics. 1996 Apr 22;104(16):6355-68\"\n",
    "\n",
    "def Diff_Hara(lp,L): \n",
    "    p = 0.5/lp\n",
    "    d = 2*a\n",
    "    def intg(s):\n",
    "        As = s/p - (1-np.exp(-2*p*s))/(2*(p**2))\n",
    "        return (L-s)*np.exp(-3*(d**2)/(2*As))/sqrt(As)\n",
    "    ing = sp.integrate.quad(intg,d,L)\n",
    "    return (C/(3*pi*L))*(1+sqrt(6/pi)*np.float(ing[0])/L)\n",
    "\n",
    "def FCS(rt,lp,tauD):\n",
    "    H = MSD(rt=rt,lp=lp,tauD=tauD)\n",
    "    return 1/((1 + (2/3.0)*H/(width))* np.sqrt(1+(2/3.0)*H/(depth))) # FCS functional form for mean square displacement"
   ]
  },
  {
   "cell_type": "code",
   "execution_count": 3,
   "id": "84d70c22",
   "metadata": {},
   "outputs": [],
   "source": [
    "# Calls randomly slr (=20) curves from a lot of 180 curves, and fits the FCS function to the average of slr(=20) curves to obtain persistence length and diffusivity.\n",
    "\n",
    "def runner(df,tcurve,slr):\n",
    "    \n",
    "    fda = np.zeros((5,tcurve))\n",
    "    \n",
    "    ltc =len(list(df))\n",
    "    for j in range(tcurve):\n",
    "        \n",
    "        X1 = np.random.randint(low=1, high=ltc, size=(slr,))\n",
    "        ll = df.iloc[:,X1]\n",
    "        avgn = ll.mean(axis=1)\n",
    "        yf = avgn/np.mean(avgn[4:20])\n",
    "        \n",
    "        popt,pcov = curve_fit(FCS,np.asarray(xf[st:en]),np.asarray(yf[st:en]),p0=[1.8e-07,0.5],bounds=([1e-8,0.],[1e-6,2.]),maxfev=10000)\n",
    "        \n",
    "        fda[0,j] = popt[0]\n",
    "        fda[1,j] = Diff_Hara(popt[0],L)\n",
    "        fda[2,j] = popt[-1]\n",
    "        errr = np.sqrt(np.diag(pcov))\n",
    "        fda[3,j] = errr[0]\n",
    "        fda[4,j] = errr[1]\n",
    "#         print(np.sqrt(np.diag(pcov)))\n",
    "\n",
    "    return np.asarray(fda)"
   ]
  },
  {
   "cell_type": "code",
   "execution_count": 4,
   "id": "fd8baf24",
   "metadata": {},
   "outputs": [
    {
     "name": "stdout",
     "output_type": "stream",
     "text": [
      "8.047140530973451e-14\n"
     ]
    },
    {
     "name": "stderr",
     "output_type": "stream",
     "text": [
      "C:\\Users\\anupam\\AppData\\Local\\Temp\\ipykernel_19172\\2012295705.py:122: DeprecationWarning: `np.float` is a deprecated alias for the builtin `float`. To silence this warning, use `float` by itself. Doing this will not modify any behavior and is safe. If you specifically wanted the numpy scalar type, use `np.float64` here.\n",
      "Deprecated in NumPy 1.20; for more details and guidance: https://numpy.org/devdocs/release/1.20.0-notes.html#deprecations\n",
      "  return (C/(3*pi*L))*(1+sqrt(6/pi)*np.float(ing[0])/L)\n"
     ]
    },
    {
     "name": "stdout",
     "output_type": "stream",
     "text": [
      "finished in 3841.11 second(s) EEA1_100000_20cal_L220\n"
     ]
    },
    {
     "name": "stderr",
     "output_type": "stream",
     "text": [
      "C:\\Users\\anupam\\AppData\\Local\\Temp\\ipykernel_19172\\2012295705.py:122: DeprecationWarning: `np.float` is a deprecated alias for the builtin `float`. To silence this warning, use `float` by itself. Doing this will not modify any behavior and is safe. If you specifically wanted the numpy scalar type, use `np.float64` here.\n",
      "Deprecated in NumPy 1.20; for more details and guidance: https://numpy.org/devdocs/release/1.20.0-notes.html#deprecations\n",
      "  return (C/(3*pi*L))*(1+sqrt(6/pi)*np.float(ing[0])/L)\n"
     ]
    },
    {
     "name": "stdout",
     "output_type": "stream",
     "text": [
      "finished in 3496.56 second(s) EEA1_2uMGST_100000_20cal_L220\n"
     ]
    },
    {
     "name": "stderr",
     "output_type": "stream",
     "text": [
      "C:\\Users\\anupam\\AppData\\Local\\Temp\\ipykernel_19172\\2012295705.py:122: DeprecationWarning: `np.float` is a deprecated alias for the builtin `float`. To silence this warning, use `float` by itself. Doing this will not modify any behavior and is safe. If you specifically wanted the numpy scalar type, use `np.float64` here.\n",
      "Deprecated in NumPy 1.20; for more details and guidance: https://numpy.org/devdocs/release/1.20.0-notes.html#deprecations\n",
      "  return (C/(3*pi*L))*(1+sqrt(6/pi)*np.float(ing[0])/L)\n"
     ]
    },
    {
     "name": "stdout",
     "output_type": "stream",
     "text": [
      "finished in 3612.15 second(s) EEA1_2uMRab5GTPyS_100000_20cal_L220\n"
     ]
    }
   ],
   "source": [
    "KbT    = (1.38e-23)*298\n",
    "etta   = 8.9e-04\n",
    "pi     = 3.14\n",
    "C      = KbT/etta\n",
    "a      = 1.0e-09\n",
    "L      = 222e-09 \n",
    "Llp    = 2\n",
    "itr    = 6\n",
    "gama   = 0.5772\n",
    "mu0    = 1.0/(6*pi*etta*a)\n",
    "amu0   = a*mu0\n",
    "df     = pd.read_csv(r'EEA1.csv',encoding='utf-7')\n",
    "SP     = 6.7\n",
    "# width  = 4*71.66*299e-06*1e-12  #413e-12*41.7e-6*4*132/113     #w2n = Da*Ta*4*Tn/Td1\n",
    "width = 413e-12*41.7e-6*4*132/113 \n",
    "print(width)\n",
    "depth  = SP*SP*width\n",
    "st     = 60\n",
    "en     = 280\n",
    "\n",
    "xf     = df['t']\n",
    "\n",
    "tcurve = 10  # bootstrapping sample size\n",
    "name   = [r'GTP_EEA1.csv'] # Files other than GTP long term data, can be used here in this array\n",
    "\n",
    "slr = 20\n",
    "\n",
    "for j in range(len(name)):\n",
    "    start  = time.perf_counter()\n",
    "\n",
    "    df      = pd.read_csv(name[j],encoding='utf-7')\n",
    "    emb     = runner(df,tcurve,slr)\n",
    "\n",
    "    naam    = name[j][:-4]+'_'+str(tcurve)+'_'+str(slr)+'cal_L220'\n",
    "    np.save(naam,emb)\n",
    "\n",
    "    finish  = time.perf_counter()\n",
    "    print(f'finished in {round(finish-start,2)} second(s)',naam)"
   ]
  },
  {
   "cell_type": "code",
   "execution_count": null,
   "id": "cc895549",
   "metadata": {},
   "outputs": [],
   "source": []
  }
 ],
 "metadata": {
  "kernelspec": {
   "display_name": "Python 3 (ipykernel)",
   "language": "python",
   "name": "python3"
  },
  "language_info": {
   "codemirror_mode": {
    "name": "ipython",
    "version": 3
   },
   "file_extension": ".py",
   "mimetype": "text/x-python",
   "name": "python",
   "nbconvert_exporter": "python",
   "pygments_lexer": "ipython3",
   "version": "3.9.12"
  }
 },
 "nbformat": 4,
 "nbformat_minor": 5
}
