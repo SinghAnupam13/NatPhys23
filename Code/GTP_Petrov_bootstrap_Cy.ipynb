{
 "cells": [
  {
   "cell_type": "code",
   "execution_count": 47,
   "id": "df89070b",
   "metadata": {},
   "outputs": [],
   "source": [
    "import matplotlib.pyplot as plt # for plotting\n",
    "import numpy as np #array handling \n",
    "import scipy as sp #scientific package\n",
    "import pandas as pd #csv file handling\n",
    "from scipy.optimize import * #for optimizing the function\n",
    "from scipy.optimize import fsolve\n",
    "import time"
   ]
  },
  {
   "cell_type": "code",
   "execution_count": 48,
   "id": "0d2248ae",
   "metadata": {},
   "outputs": [],
   "source": [
    "## Calculation of local slope\n",
    "def alpha(x,y,iavg): \n",
    "    lx = len(x) \n",
    "    a = [] \n",
    "    t = [] \n",
    "    for k in range(lx-iavg):\n",
    "        yd = y[k:k+iavg] \n",
    "        xd = x[k:k+iavg] \n",
    "        popt,pcov = np.polyfit(xd,yd,deg=1)\n",
    "        t.append(np.mean(xd))\n",
    "        a.append(popt)\n",
    "        \n",
    "    return 10**np.asarray(t),np.asarray(a)\n",
    "\n",
    "## MSD calculation\n",
    "def haranu(rt,D,del_1,tdl1,del_2,tdl2):\n",
    "    return 6*D*rt + C*(del_1*(1-np.exp(-(rt/tdl1))) + del_2*(1-np.exp(-(rt/tdl2))))\n",
    "\n",
    "## FCS curve fitting\n",
    "def petrov(rt,D,del_1,tdl1,del_2,tdl2):\n",
    "    H = haranu(rt=rt,D=D,del_1=del_1,tdl1=tdl1,del_2=del_2,tdl2=tdl2)\n",
    "    return 1/((1 + (2/3.0)*H/(width))* np.sqrt(1+(2/3.0)*H/(depth)))\n",
    "\n",
    "## For getting the derivated of MSD to obtain alpha\n",
    "def nalpha(rt,D,del_1,tdl1,del_2,tdl2):\n",
    "    rt_dl1 = np.exp(-(rt/tdl1))\n",
    "    rt_dl2 = np.exp(-(rt/tdl2))\n",
    "    return rt*(6*D + C*(del_1*rt_dl1/tdl1 + del_2*rt_dl2/tdl2 ))/(6*D*rt + C*(del_1*(1-rt_dl1) + del_2*(1-rt_dl2)))"
   ]
  },
  {
   "cell_type": "code",
   "execution_count": 49,
   "id": "a2d755a7",
   "metadata": {},
   "outputs": [],
   "source": [
    "## The below function is create a set of 180 curves, with moving window of ws i.e. 30 curves (15 mins)\n",
    "\n",
    "def mov_win(ws):\n",
    "    run = 1\n",
    "    hr = int(ws/120)+1\n",
    "    rec = 0\n",
    "    curves = []\n",
    "    for i in range(ws,ws+nhr):\n",
    "        if (i%120) == 0:\n",
    "            hr +=1\n",
    "            run += 1\n",
    "        ss = 'Rab5GTP_cy2_'+str(hr)+'hr_'+str(i%120)+'_Y'\n",
    "        try:\n",
    "            curves.append(np.asarray(df[ss]))\n",
    "            rec +=1\n",
    "        except:\n",
    "            pass\n",
    "    curves = np.asarray(curves)\n",
    "    return curves"
   ]
  },
  {
   "cell_type": "code",
   "execution_count": 50,
   "id": "466ab574",
   "metadata": {},
   "outputs": [],
   "source": [
    "## The below function is create a set of 180 curves, with moving window of ws i.e. 30 curves (15 mins)\n",
    "\n",
    "subs = 220\n",
    "star = 20\n",
    "n_2_3 = 2.0/3.0\n",
    "def runner(df,tcurve,slr):\n",
    "    \n",
    "    fda = np.zeros((5,tcurve))\n",
    "    \n",
    "    tcur = []\n",
    "    acur = []\n",
    "    \n",
    "    p0 = [1.37874036e-11, 2.7e+02, 9.06751393e-06, 4.6e+02, 1.16446007e-04]\n",
    "    ltc = len(t_curves)\n",
    "    \n",
    "    for j in range(tcurve):\n",
    "        \n",
    "        X1 = np.random.randint(low=0, high=ltc, size=(slr,))\n",
    "        ll = t_curves[X1]\n",
    "        avgn = ll.mean(axis=0)\n",
    "        yf = np.asarray(avgn/np.mean(avgn[4:20]))\n",
    "        \n",
    "        try :\n",
    "            popt,pcov = curve_fit(petrov,xf[10:],yf[10:],p0=p0,maxfev = 10000)\n",
    "            fda[:,j] = popt\n",
    "        except:\n",
    "            pass\n",
    "        \n",
    "\n",
    "        sol = fsolve(lambda MSD: 1/((1 + n_2_3*MSD/width)*np.sqrt(1+n_2_3*MSD/depth)) - [yf[i] for i in range(star,lxf-subs)], yf[star:lxf-subs]*1e-14 )\n",
    "        xsol = np.log10(xf[star:lxf-subs][sol>0])\n",
    "        sol = np.log10(sol[sol>0])\n",
    "        \n",
    "        t,a = alpha(xsol,sol,66)\n",
    "        \n",
    "        tcur.append(t)\n",
    "        acur.append(a)\n",
    "        \n",
    "#         plt.scatter(t,a)#,marker='o',facecolors='w')\n",
    "#         plt.semilogx()        \n",
    "\n",
    "    return np.asarray(fda),np.asarray(tcur),np.asarray(acur)"
   ]
  },
  {
   "cell_type": "code",
   "execution_count": 51,
   "id": "dcad7d6f",
   "metadata": {},
   "outputs": [],
   "source": [
    "KbT    = (1.38e-23)*298\n",
    "etta   = 8.9e-04\n",
    "pi     = 3.14\n",
    "C      = KbT/etta\n",
    "a      = 1.0e-09\n",
    "L      = 196e-09 \n",
    "Llp    = 3.0\n",
    "itr    = 6\n",
    "gama   = 0.5772\n",
    "mu0    = 1.0/(6*pi*etta*a)\n",
    "amu0   = a*mu0\n",
    "SP     = 6.7\n",
    "width  = 4*71.66*299e-06*1e-12\n",
    "depth  = SP*SP*width\n",
    "st     = 60\n",
    "en     = 280\n",
    "tcurve = 10\n",
    "preavg = 20\n",
    "df     = pd.read_csv(r'GTP_EEA1_2uMRab5GTP_Cy2.csv')\n",
    "xf     = df['Rab5GTP_cy2_1hr_2_X']\n",
    "nhr    = int(1.5*120)\n",
    "lxf    = len(xf)"
   ]
  },
  {
   "cell_type": "code",
   "execution_count": 52,
   "id": "3f586fad",
   "metadata": {},
   "outputs": [
    {
     "name": "stderr",
     "output_type": "stream",
     "text": [
      "C:\\Users\\anupam\\anaconda3\\lib\\site-packages\\pandas\\core\\arraylike.py:397: RuntimeWarning: overflow encountered in exp\n",
      "  result = getattr(ufunc, method)(*inputs, **kwargs)\n",
      "C:\\Users\\anupam\\anaconda3\\lib\\site-packages\\pandas\\core\\arraylike.py:397: RuntimeWarning: invalid value encountered in sqrt\n",
      "  result = getattr(ufunc, method)(*inputs, **kwargs)\n",
      "C:\\Users\\anupam\\AppData\\Local\\Temp\\ipykernel_21468\\2228694068.py:42: VisibleDeprecationWarning: Creating an ndarray from ragged nested sequences (which is a list-or-tuple of lists-or-tuples-or ndarrays with different lengths or shapes) is deprecated. If you meant to do this, you must specify 'dtype=object' when creating the ndarray.\n",
      "  return np.asarray(fda),np.asarray(tcur),np.asarray(acur)\n"
     ]
    },
    {
     "name": "stdout",
     "output_type": "stream",
     "text": [
      "finished in 3.33 second(s)\n"
     ]
    },
    {
     "name": "stderr",
     "output_type": "stream",
     "text": [
      "C:\\Users\\anupam\\anaconda3\\lib\\site-packages\\scipy\\optimize\\minpack.py:833: OptimizeWarning: Covariance of the parameters could not be estimated\n",
      "  warnings.warn('Covariance of the parameters could not be estimated',\n"
     ]
    },
    {
     "name": "stdout",
     "output_type": "stream",
     "text": [
      "finished in 10.17 second(s)\n",
      "finished in 7.22 second(s)\n",
      "finished in 8.51 second(s)\n",
      "finished in 18.27 second(s)\n"
     ]
    }
   ],
   "source": [
    "fda   = np.zeros((3,tcurve)) ## Array to store the values of persistence length, diffusion and correction factor for the diffusion\n",
    "\n",
    "for av in range(1,151,30):\n",
    "\n",
    "    t_curves = mov_win(av)\n",
    "\n",
    "    start  = time.perf_counter()\n",
    "    \n",
    "    emb,emt,ema     = runner(t_curves,tcurve,preavg)\n",
    "\n",
    "    naam    = 'Cy2_'+\"{:.2f}\".format((av+180-1)/120)+'_'+str(tcurve)+'_'+str(preavg)+'_fit' #saves all the fit on average curve of randomly generated curves\n",
    "    np.save(naam,emb)\n",
    "    \n",
    "    naam    = 'Cy2_'+\"{:.2f}\".format((av+180-1)/120)+'_'+str(tcurve)+'_'+str(preavg)+'_tcur' # Saves the average curve\n",
    "    np.save(naam,emt)\n",
    "    \n",
    "    naam    = 'Cy2_'+\"{:.2f}\".format((av+180-1)/120)+'_'+str(tcurve)+'_'+str(preavg)+'_acur' # Saves the alpha plot, so don't have to compute again\n",
    "    np.save(naam,ema)\n",
    "    finish  = time.perf_counter()\n",
    "    print(f'finished in {round(finish-start,2)} second(s)')"
   ]
  },
  {
   "cell_type": "code",
   "execution_count": null,
   "id": "09e13054",
   "metadata": {},
   "outputs": [],
   "source": []
  }
 ],
 "metadata": {
  "kernelspec": {
   "display_name": "Python 3 (ipykernel)",
   "language": "python",
   "name": "python3"
  },
  "language_info": {
   "codemirror_mode": {
    "name": "ipython",
    "version": 3
   },
   "file_extension": ".py",
   "mimetype": "text/x-python",
   "name": "python",
   "nbconvert_exporter": "python",
   "pygments_lexer": "ipython3",
   "version": "3.9.12"
  }
 },
 "nbformat": 4,
 "nbformat_minor": 5
}
