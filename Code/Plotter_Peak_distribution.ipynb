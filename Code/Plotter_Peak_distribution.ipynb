{
 "cells": [
  {
   "cell_type": "code",
   "execution_count": 29,
   "metadata": {},
   "outputs": [
    {
     "name": "stdout",
     "output_type": "stream",
     "text": [
      "Using matplotlib backend: QtAgg\n"
     ]
    }
   ],
   "source": [
    "import seaborn as sns\n",
    "import matplotlib.pyplot as plt\n",
    "import numpy as np\n",
    "from scipy.signal import find_peaks as fpk\n",
    "from scipy.interpolate import make_interp_spline, BSpline\n",
    "from scipy.ndimage.filters import gaussian_filter1d\n",
    "%matplotlib auto"
   ]
  },
  {
   "cell_type": "code",
   "execution_count": 30,
   "metadata": {},
   "outputs": [],
   "source": [
    "\n",
    "def sec_peak(ar0):\n",
    "    zx = np.histogram(ar0,bins=int(np.sqrt(tcurve)/3))\n",
    "    xx = zx[1][:-1]\n",
    "    yy = zx[0]\n",
    "  \n",
    "    ysmoothed = gaussian_filter1d(yy, sigma=1.5)\n",
    "    peaks,_ = fpk(ysmoothed,distance=10)\n",
    "        \n",
    "    # The below code calculates the occurance of the stiff peak\n",
    "    sx_pk =0\n",
    "    if len(peaks)>1:\n",
    "        if xx[peaks[1]] < 225:\n",
    "            sx_pk = xx[peaks[1]]\n",
    "        else:\n",
    "            sx_pk = xx[peaks[0]]\n",
    "    else:\n",
    "        sx_pk = xx[peaks[0]]\n",
    "        \n",
    "    sx_sd = ar0 - sx_pk\n",
    "    N = len(sx_sd)\n",
    "    sdl =0\n",
    "    sdh = 0\n",
    "    ell = 0\n",
    "    elh = 0\n",
    "    for i in range(N):\n",
    "        if ar0[i]>sx_pk : \n",
    "            sdh+=sx_sd[i]**2\n",
    "            elh+=1\n",
    "        else:\n",
    "            sdl+=sx_sd[i]**2\n",
    "            ell+=1\n",
    "        \n",
    "    sdl = np.sqrt(sdl/(ell-1)/180)\n",
    "    sdh = np.sqrt(sdh/(elh-1)/180)\n",
    "    return sx_pk,sdl,sdh"
   ]
  },
  {
   "cell_type": "code",
   "execution_count": 31,
   "metadata": {},
   "outputs": [
    {
     "name": "stdout",
     "output_type": "stream",
     "text": [
      "[200.63731449]\n",
      "[170.63182146 265.76830579]\n"
     ]
    },
    {
     "data": {
      "text/plain": [
       "<ErrorbarContainer object of 3 artists>"
      ]
     },
     "execution_count": 31,
     "metadata": {},
     "output_type": "execute_result"
    }
   ],
   "source": [
    "x = []\n",
    "y = []\n",
    "yl = []\n",
    "yh = []\n",
    "\n",
    "amr =0\n",
    "\n",
    "x = []\n",
    "y = []\n",
    "yl = []\n",
    "yh = []\n",
    "\n",
    "dar = [[]for i in range(2)]\n",
    "\n",
    "amr =0\n",
    "\n",
    "name = [r'Cy2_1.50_10_20.csv',r'Cy2_1.75_10_20.csv']\n",
    "\n",
    "for j in range(len(name)):\n",
    "    naam    = name[j][:-4]+'_Lp.npy'\n",
    "    ars = np.load(naam)\n",
    "    ar0 = ars[0][(ars[0]>1e-09) & (ars[0]<5e-07)]\n",
    "    yelo = sd_cal(ar0*1e9)\n",
    "    y.append(yelo[0])\n",
    "    yl.append(yelo[1])\n",
    "    yh.append(yelo[2])\n",
    "    x.append(amr)\n",
    "    amr+=1.0\n",
    "    \n",
    "plt.errorbar(x,y,(yl,yh),capsize=4,fmt='o')"
   ]
  },
  {
   "cell_type": "code",
   "execution_count": null,
   "metadata": {},
   "outputs": [],
   "source": []
  }
 ],
 "metadata": {
  "kernelspec": {
   "display_name": "Python 3 (ipykernel)",
   "language": "python",
   "name": "python3"
  },
  "language_info": {
   "codemirror_mode": {
    "name": "ipython",
    "version": 3
   },
   "file_extension": ".py",
   "mimetype": "text/x-python",
   "name": "python",
   "nbconvert_exporter": "python",
   "pygments_lexer": "ipython3",
   "version": "3.9.12"
  }
 },
 "nbformat": 4,
 "nbformat_minor": 4
}
